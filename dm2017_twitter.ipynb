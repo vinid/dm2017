{
 "cells": [
  {
   "cell_type": "markdown",
   "metadata": {
    "collapsed": false,
    "deletable": true,
    "editable": true
   },
   "source": [
    "# Scrapy"
   ]
  },
  {
   "cell_type": "code",
   "execution_count": 45,
   "metadata": {
    "collapsed": false,
    "deletable": true,
    "editable": true
   },
   "outputs": [
    {
     "data": {
      "text/plain": [
       "<p class=\"TweetTextSize TweetTextSize--normal js-tweet-text tweet-text\" data-aria-label-part=\"4\" lang=\"it\">Siamo certi che secondo le prime proiezioni i Mille fossero proprio mille? E Crispi, quanto ha fatto? Dati reali, please.<a class=\"twitter-timeline-link u-hidden\" data-expanded-url=\"https://twitter.com/manginobrioches/status/927277421736407040\" dir=\"ltr\" href=\"https://t.co/0nzs5P5PlT\" rel=\"nofollow noopener\" target=\"_blank\" title=\"https://twitter.com/manginobrioches/status/927277421736407040\"><span class=\"tco-ellipsis\"></span><span class=\"invisible\">https://</span><span class=\"js-display-url\">twitter.com/manginobrioche</span><span class=\"invisible\">s/status/927277421736407040</span><span class=\"tco-ellipsis\"><span class=\"invisible\">\\xa0</span>\\u2026</span></a></p>"
      ]
     },
     "execution_count": 45,
     "metadata": {},
     "output_type": "execute_result"
    }
   ],
   "source": [
    "from bs4 import BeautifulSoup\n",
    "import urllib2\n",
    "twitter_page = \"https://twitter.com/fb_vinid\"\n",
    "page = urllib2.urlopen(twitter_page)\n",
    "soup = BeautifulSoup(page, \"lxml\")\n",
    "# tag TweetTextSize\n",
    "all_tags = soup.findAll(\"p\", { \"class\" : \"tweet-text\" })\n",
    "\n",
    "all_tags[0]"
   ]
  },
  {
   "cell_type": "markdown",
   "metadata": {
    "deletable": true,
    "editable": true
   },
   "source": [
    "#  Import The Libraries "
   ]
  },
  {
   "cell_type": "code",
   "execution_count": 46,
   "metadata": {
    "collapsed": false,
    "deletable": true,
    "editable": true
   },
   "outputs": [],
   "source": [
    "from __future__ import absolute_import, print_function\n",
    "import tweepy\n",
    "from tweepy import OAuthHandler\n",
    "from tweepy import Stream"
   ]
  },
  {
   "cell_type": "markdown",
   "metadata": {
    "deletable": true,
    "editable": true
   },
   "source": [
    "# Generate Auth for Twitter\n",
    "On registration Twitter gives us 4 keys that are to be used to query the platform. Tweepy will come in handy for this."
   ]
  },
  {
   "cell_type": "code",
   "execution_count": 47,
   "metadata": {
    "collapsed": false,
    "deletable": true,
    "editable": true
   },
   "outputs": [],
   "source": [
    "consumer_key=\"\"\n",
    "consumer_secret=\"\"\n",
    "\n",
    "access_token=\"\"\n",
    "access_token_secret=\"\"\n",
    "\n",
    "auth = OAuthHandler(consumer_key, consumer_secret)\n",
    "auth.set_access_token(access_token, access_token_secret)\n",
    "api = tweepy.API(auth)"
   ]
  },
  {
   "cell_type": "markdown",
   "metadata": {
    "deletable": true,
    "editable": true
   },
   "source": [
    "# Extract My Data with APIs"
   ]
  },
  {
   "cell_type": "code",
   "execution_count": 74,
   "metadata": {
    "collapsed": false,
    "deletable": true,
    "editable": true
   },
   "outputs": [
    {
     "data": {
      "text/plain": [
       "u'RT @civati: Siamo certi che secondo le prime proiezioni i Mille fossero proprio mille? E Crispi, quanto ha fatto? Dati reali, please. https\\u2026'"
      ]
     },
     "execution_count": 74,
     "metadata": {},
     "output_type": "execute_result"
    }
   ],
   "source": [
    "api.me()"
   ]
  },
  {
   "cell_type": "markdown",
   "metadata": {
    "deletable": true,
    "editable": true
   },
   "source": [
    "# Query Twitter\n",
    "new_tweets is a list of Tweets"
   ]
  },
  {
   "cell_type": "code",
   "execution_count": 75,
   "metadata": {
    "collapsed": false,
    "deletable": true,
    "editable": true
   },
   "outputs": [],
   "source": [
    "new_tweets = api.search()"
   ]
  },
  {
   "cell_type": "code",
   "execution_count": 79,
   "metadata": {
    "collapsed": false,
    "deletable": true,
    "editable": true
   },
   "outputs": [
    {
     "data": {
      "text/plain": [
       "u\"In #Roma/#Vaticano c'\\xe8 un apparato pi\\xf9 apparato di @L_Apparato_ https://t.co/2AOu41iEIZ\""
      ]
     },
     "execution_count": 79,
     "metadata": {},
     "output_type": "execute_result"
    }
   ],
   "source": [
    "new_tweets[1].text"
   ]
  },
  {
   "cell_type": "markdown",
   "metadata": {
    "deletable": true,
    "editable": true
   },
   "source": [
    "# Explore Results\n",
    "The results of the API call are inserted inside a List and we can explore them"
   ]
  },
  {
   "cell_type": "code",
   "execution_count": 80,
   "metadata": {
    "collapsed": false,
    "deletable": true,
    "editable": true
   },
   "outputs": [
    {
     "data": {
      "text/plain": [
       "(u'lella',\n",
       " u\"RT @ilmessaggeroit: Capogruppo M5S con l'auto blu \\xababolita\\xbb: la commissione Trasparenza apre indagine interna https://t.co/v21c94Zmqv\")"
      ]
     },
     "execution_count": 80,
     "metadata": {},
     "output_type": "execute_result"
    }
   ],
   "source": [
    "new_tweets[0].user.name, new_tweets[0].text"
   ]
  },
  {
   "cell_type": "markdown",
   "metadata": {
    "deletable": true,
    "editable": true
   },
   "source": [
    "# Get Users and Tweet"
   ]
  },
  {
   "cell_type": "code",
   "execution_count": 83,
   "metadata": {
    "collapsed": false,
    "deletable": true,
    "editable": true
   },
   "outputs": [
    {
     "data": {
      "text/plain": [
       "(u'\\u271e memedesima \\u0646',\n",
       " u\"In #Roma/#Vaticano c'\\xe8 un apparato pi\\xf9 apparato di @L_Apparato_ https://t.co/2AOu41iEIZ\")"
      ]
     },
     "execution_count": 83,
     "metadata": {},
     "output_type": "execute_result"
    }
   ],
   "source": [
    "user_text_list = []\n",
    "for tweet in new_tweets:\n",
    "    user_text_list.append((tweet.user.name, tweet.text))\n",
    "user_text_list[1]"
   ]
  },
  {
   "cell_type": "markdown",
   "metadata": {},
   "source": [
    "# Hashtags\n",
    "If there are hashtags you can explore the lists/dictionaries to get them"
   ]
  },
  {
   "cell_type": "code",
   "execution_count": 82,
   "metadata": {
    "collapsed": false,
    "deletable": true,
    "editable": true
   },
   "outputs": [
    {
     "name": "stdout",
     "output_type": "stream",
     "text": [
      "Roma\n",
      "Vaticano\n"
     ]
    }
   ],
   "source": [
    "for k in new_tweets[1]._json[\"entities\"][\"hashtags\"]:\n",
    "    print(k[\"text\"])"
   ]
  },
  {
   "cell_type": "markdown",
   "metadata": {
    "deletable": true,
    "editable": true
   },
   "source": [
    "# Save Data\n",
    "Comma Separeted Value (CSV) file can be used to stored the extracted information. In this case we will use the \\t (tab, four spaces) character to separate the information. Commas and quotes are widly used inside tweets. Using tweets will prevent some redability errors. We also have to encode in a different charset some variables to prevent other errors in writing.\n",
    "\n",
    "TSV might also generated errors: what if a tweet contains tabs? Best method would be to escape characters that can generate errors."
   ]
  },
  {
   "cell_type": "code",
   "execution_count": 88,
   "metadata": {
    "collapsed": false,
    "deletable": true,
    "editable": true
   },
   "outputs": [],
   "source": [
    "with open(\"twitter-users.tsv\", \"w\") as f:\n",
    "    for tweet in new_tweets:\n",
    "        user_name = tweet.user.name.encode('utf-8')\n",
    "        tweet_text = tweet.text.encode('unicode_escape')\n",
    "        \n",
    "        f.write(user_name + \"\\t\" \n",
    "                + tweet_text + \"\\n\")"
   ]
  },
  {
   "cell_type": "markdown",
   "metadata": {
    "deletable": true,
    "editable": true
   },
   "source": [
    "# Real-Time Streaming\n",
    "We connect to Twitter and wait for \"fresh\" tweets. To do this we generate a Listener Object that contains a method that will be automatically used once Twitter \"sends\" us a tweet."
   ]
  },
  {
   "cell_type": "code",
   "execution_count": null,
   "metadata": {
    "collapsed": false,
    "deletable": true,
    "editable": true
   },
   "outputs": [],
   "source": [
    "from tweepy.streaming import StreamListener\n",
    "from tweepy import Stream\n",
    "\n",
    "class Listener(tweepy.StreamListener):\n",
    "\n",
    "    def on_status(self, status):\n",
    "        print(status.user.name, status.text)\n",
    "\n",
    "stream = Listener\n",
    "stream = Stream(auth = api.auth, listener=stream())\n",
    "stream.filter(track=['Roma'], languages=[\"it\"])"
   ]
  },
  {
   "cell_type": "markdown",
   "metadata": {
    "deletable": true,
    "editable": true
   },
   "source": [
    "# Excercise\n",
    "+ Create a script that extracts tweets using a keyword query you like\n",
    "+ Save in CSV file the following information: user, screen-name, tweet, followers\n",
    "+ Load the file with Pandas read_csv function\n",
    "+ Get the top-5 tweet coming from the most followed people you queried"
   ]
  },
  {
   "cell_type": "code",
   "execution_count": 86,
   "metadata": {
    "collapsed": true,
    "deletable": true,
    "editable": true
   },
   "outputs": [],
   "source": []
  },
  {
   "cell_type": "code",
   "execution_count": 91,
   "metadata": {
    "collapsed": false,
    "deletable": true,
    "editable": true
   },
   "outputs": [],
   "source": []
  },
  {
   "cell_type": "code",
   "execution_count": 92,
   "metadata": {
    "collapsed": false,
    "deletable": true,
    "editable": true
   },
   "outputs": [],
   "source": []
  },
  {
   "cell_type": "code",
   "execution_count": null,
   "metadata": {
    "collapsed": false,
    "deletable": true,
    "editable": true
   },
   "outputs": [],
   "source": []
  },
  {
   "cell_type": "markdown",
   "metadata": {
    "deletable": true,
    "editable": true
   },
   "source": [
    "# Exercise 2"
   ]
  },
  {
   "cell_type": "code",
   "execution_count": 37,
   "metadata": {
    "collapsed": false,
    "deletable": true,
    "editable": true
   },
   "outputs": [],
   "source": []
  },
  {
   "cell_type": "code",
   "execution_count": 94,
   "metadata": {
    "collapsed": false,
    "deletable": true,
    "editable": true
   },
   "outputs": [],
   "source": []
  }
 ],
 "metadata": {
  "kernelspec": {
   "display_name": "Python 2",
   "language": "python",
   "name": "python2"
  },
  "language_info": {
   "codemirror_mode": {
    "name": "ipython",
    "version": 2
   },
   "file_extension": ".py",
   "mimetype": "text/x-python",
   "name": "python",
   "nbconvert_exporter": "python",
   "pygments_lexer": "ipython2",
   "version": "2.7.12"
  }
 },
 "nbformat": 4,
 "nbformat_minor": 2
}
